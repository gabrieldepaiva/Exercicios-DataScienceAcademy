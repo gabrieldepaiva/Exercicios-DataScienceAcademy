{
  "nbformat": 4,
  "nbformat_minor": 0,
  "metadata": {
    "colab": {
      "name": "Instruções - Pandas.ipynb",
      "provenance": [],
      "mount_file_id": "1ZGSUUasfE75GO_SPopnEDvWE1f44ywym",
      "authorship_tag": "ABX9TyNyqABehoDvZ2zk+ytpqHpI",
      "include_colab_link": true
    },
    "kernelspec": {
      "name": "python3",
      "display_name": "Python 3"
    }
  },
  "cells": [
    {
      "cell_type": "markdown",
      "metadata": {
        "id": "view-in-github",
        "colab_type": "text"
      },
      "source": [
        "<a href=\"https://colab.research.google.com/github/gabrieldepaiva/Meus_Projetos/blob/master/Instru%C3%A7%C3%B5es_Pandas.ipynb\" target=\"_parent\"><img src=\"https://colab.research.google.com/assets/colab-badge.svg\" alt=\"Open In Colab\"/></a>"
      ]
    },
    {
      "cell_type": "markdown",
      "metadata": {
        "id": "maOqnJA7gk5X",
        "colab_type": "text"
      },
      "source": [
        "# Como importar uma base de dados, seja de sites, diretório, etc no Google Colab:"
      ]
    },
    {
      "cell_type": "code",
      "metadata": {
        "id": "9mWqqZXSgv2K",
        "colab_type": "code",
        "colab": {}
      },
      "source": [
        "import pandas as pd"
      ],
      "execution_count": null,
      "outputs": []
    },
    {
      "cell_type": "markdown",
      "metadata": {
        "id": "h08pikRL20Bs",
        "colab_type": "text"
      },
      "source": [
        "Manualmente (arrastando o arquivo para a pasta \"sample_data\" e usar o Pandas normalmente, conforme imagem abaixo):\n",
        "\n",
        "[Imagem que Mostra como Faz](https://drive.google.com/file/d/1rYAatNEmR7bQuGZNOntATqugHIC5b02N/view?usp=sharing)"
      ]
    },
    {
      "cell_type": "markdown",
      "metadata": {
        "id": "rhLVVuag4U3w",
        "colab_type": "text"
      },
      "source": [
        "Usando um módulo do Python: "
      ]
    },
    {
      "cell_type": "code",
      "metadata": {
        "id": "tnBaYW7ZpVXp",
        "colab_type": "code",
        "colab": {}
      },
      "source": [
        "# OBS: O arquivo vai para a pasta \"sample_data\" \n",
        "\n",
        "from google.colab import files\n",
        "\n",
        "upload = files.upload() # para esse exemplo melhor upar um arquivo com o nome 'exemplo.csv'"
      ],
      "execution_count": null,
      "outputs": []
    },
    {
      "cell_type": "markdown",
      "metadata": {
        "id": "OrW9nQhP4ot_",
        "colab_type": "text"
      },
      "source": [
        "Em um Jupyter Notebbok local pode desconsiderar os passos acima e começar daqui"
      ]
    },
    {
      "cell_type": "code",
      "metadata": {
        "id": "LjLFvLPoq5Vq",
        "colab_type": "code",
        "colab": {}
      },
      "source": [
        "# Para ler o arquivo, seja ele em que formato for como uma base de dados:\n",
        "\n",
        "df = pd.read_csv('exemplo.csv', sep=';', encoding='latin-1')\n",
        "df.head()"
      ],
      "execution_count": null,
      "outputs": []
    },
    {
      "cell_type": "markdown",
      "metadata": {
        "id": "HVZYGjLfu2Sj",
        "colab_type": "text"
      },
      "source": [
        "É possível abrir diversos formatos e de diversas formas, sendo que:"
      ]
    },
    {
      "cell_type": "code",
      "metadata": {
        "id": "FttWmsqpu_Tq",
        "colab_type": "code",
        "colab": {}
      },
      "source": [
        "# Caso o passo abaixo resulte em um erro, colocar como um argumento o comando encoding= 'latin-1'\n",
        "# No espaço que está o nome do arquivo pode ser específicado a localização do arquivo que se quer abrir\n",
        "\n",
        "#Para arquivos CSV:\n",
        "df = pd.read_csv('exemplo.csv', sep=';', encoding='latin-1')\n",
        "\n",
        "# Para arquivos em Excel:\n",
        "df = pd.read_excel('exemplo.xlsx')\n",
        "\n",
        "# Para arquivos no formato JSON:\n",
        "df = pd.read_json('exemplo.json')\n",
        "\n",
        "# Para arquivos no formato HTML:\n",
        "df = pd.read_html('exemplo.json')\n",
        "\n",
        "# Para sites (no exemplo abaixo o endereço eletrônico estaria em CSV)\n",
        "df = pd.read_csv('www.endereçoeletrônico.com.br')"
      ],
      "execution_count": null,
      "outputs": []
    },
    {
      "cell_type": "markdown",
      "metadata": {
        "id": "Ch1tKvIZxRuH",
        "colab_type": "text"
      },
      "source": [
        "Para criar um banco de dados:"
      ]
    },
    {
      "cell_type": "code",
      "metadata": {
        "id": "Zde_alWVxU4X",
        "colab_type": "code",
        "colab": {
          "base_uri": "https://localhost:8080/",
          "height": 136
        },
        "outputId": "cc518254-a37e-42c3-b955-673c7603ea71"
      },
      "source": [
        "raw_data = {'Primeiro Nome': ['Jakcson', 'Jake', 'Amy'], \n",
        "        'Último Nome': ['Miller', 'Milner', 'Wainehouse'], \n",
        "        'Idade': [42, 52, 36]}\n",
        "\n",
        "bcodados = pd.DataFrame(raw_data, columns = ['Primeiro Nome', 'Último Nome', 'Idade']) # foco no .DataFrame\n",
        "bcodados"
      ],
      "execution_count": null,
      "outputs": [
        {
          "output_type": "execute_result",
          "data": {
            "text/html": [
              "<div>\n",
              "<style scoped>\n",
              "    .dataframe tbody tr th:only-of-type {\n",
              "        vertical-align: middle;\n",
              "    }\n",
              "\n",
              "    .dataframe tbody tr th {\n",
              "        vertical-align: top;\n",
              "    }\n",
              "\n",
              "    .dataframe thead th {\n",
              "        text-align: right;\n",
              "    }\n",
              "</style>\n",
              "<table border=\"1\" class=\"dataframe\">\n",
              "  <thead>\n",
              "    <tr style=\"text-align: right;\">\n",
              "      <th></th>\n",
              "      <th>Primeiro Nome</th>\n",
              "      <th>Último Nome</th>\n",
              "      <th>Idade</th>\n",
              "    </tr>\n",
              "  </thead>\n",
              "  <tbody>\n",
              "    <tr>\n",
              "      <th>0</th>\n",
              "      <td>Jakcson</td>\n",
              "      <td>Miller</td>\n",
              "      <td>42</td>\n",
              "    </tr>\n",
              "    <tr>\n",
              "      <th>1</th>\n",
              "      <td>Jake</td>\n",
              "      <td>Milner</td>\n",
              "      <td>52</td>\n",
              "    </tr>\n",
              "    <tr>\n",
              "      <th>2</th>\n",
              "      <td>Amy</td>\n",
              "      <td>Wainehouse</td>\n",
              "      <td>36</td>\n",
              "    </tr>\n",
              "  </tbody>\n",
              "</table>\n",
              "</div>"
            ],
            "text/plain": [
              "  Primeiro Nome Último Nome  Idade\n",
              "0       Jakcson      Miller     42\n",
              "1          Jake      Milner     52\n",
              "2           Amy  Wainehouse     36"
            ]
          },
          "metadata": {
            "tags": []
          },
          "execution_count": 40
        }
      ]
    },
    {
      "cell_type": "markdown",
      "metadata": {
        "id": "HRZv9F8uzDhU",
        "colab_type": "text"
      },
      "source": [
        "Para adicionar uma nova linha ao banco de dados:"
      ]
    },
    {
      "cell_type": "code",
      "metadata": {
        "id": "EdA7WyMWzGRq",
        "colab_type": "code",
        "colab": {
          "base_uri": "https://localhost:8080/",
          "height": 166
        },
        "outputId": "ca52ff3e-d2bd-4daa-db64-339b1643e373"
      },
      "source": [
        "nova_entrada = ['João', 'Lima', 55]\n",
        "\n",
        "bcodados.loc[len(bcodados)] = nova_entrada # o método .loc informa onde vai ser inserido esse novo registro e o len conta quantos registros tem para inserir na última linha\n",
        "bcodados"
      ],
      "execution_count": null,
      "outputs": [
        {
          "output_type": "execute_result",
          "data": {
            "text/html": [
              "<div>\n",
              "<style scoped>\n",
              "    .dataframe tbody tr th:only-of-type {\n",
              "        vertical-align: middle;\n",
              "    }\n",
              "\n",
              "    .dataframe tbody tr th {\n",
              "        vertical-align: top;\n",
              "    }\n",
              "\n",
              "    .dataframe thead th {\n",
              "        text-align: right;\n",
              "    }\n",
              "</style>\n",
              "<table border=\"1\" class=\"dataframe\">\n",
              "  <thead>\n",
              "    <tr style=\"text-align: right;\">\n",
              "      <th></th>\n",
              "      <th>Primeiro Nome</th>\n",
              "      <th>Último Nome</th>\n",
              "      <th>Idade</th>\n",
              "    </tr>\n",
              "  </thead>\n",
              "  <tbody>\n",
              "    <tr>\n",
              "      <th>0</th>\n",
              "      <td>Jakcson</td>\n",
              "      <td>Miller</td>\n",
              "      <td>42</td>\n",
              "    </tr>\n",
              "    <tr>\n",
              "      <th>1</th>\n",
              "      <td>Jake</td>\n",
              "      <td>Milner</td>\n",
              "      <td>52</td>\n",
              "    </tr>\n",
              "    <tr>\n",
              "      <th>2</th>\n",
              "      <td>Amy</td>\n",
              "      <td>Wainehouse</td>\n",
              "      <td>36</td>\n",
              "    </tr>\n",
              "    <tr>\n",
              "      <th>3</th>\n",
              "      <td>João</td>\n",
              "      <td>Lima</td>\n",
              "      <td>55</td>\n",
              "    </tr>\n",
              "  </tbody>\n",
              "</table>\n",
              "</div>"
            ],
            "text/plain": [
              "  Primeiro Nome Último Nome  Idade\n",
              "0       Jakcson      Miller     42\n",
              "1          Jake      Milner     52\n",
              "2           Amy  Wainehouse     36\n",
              "3          João        Lima     55"
            ]
          },
          "metadata": {
            "tags": []
          },
          "execution_count": 39
        }
      ]
    },
    {
      "cell_type": "markdown",
      "metadata": {
        "id": "1ngdE0sR6yyl",
        "colab_type": "text"
      },
      "source": [
        "Para adicionar uma nova coluna ao banco de dados:"
      ]
    },
    {
      "cell_type": "code",
      "metadata": {
        "id": "j7GAFs0T62m_",
        "colab_type": "code",
        "colab": {
          "base_uri": "https://localhost:8080/",
          "height": 354
        },
        "outputId": "fd3e44f4-8522-4178-8f81-3d027018a1d9"
      },
      "source": [
        "# usar o método insert no objeto correspondente ao banco de dados o qual se quer adicionar uma nova coluna:\n",
        "# se o nome já existir, vai dar erro, se o número de dados não bater com o número de linhas, vai dar erro.\n",
        "\n",
        "bcodados.insert(loc=3, column = 'Nova Coluna', value= [1,2,3]) # loc = onde a coluna vai se localizar, sendo que a identação ou contagem começa do 0\n"
      ],
      "execution_count": null,
      "outputs": [
        {
          "output_type": "error",
          "ename": "ValueError",
          "evalue": "ignored",
          "traceback": [
            "\u001b[0;31m---------------------------------------------------------------------------\u001b[0m",
            "\u001b[0;31mValueError\u001b[0m                                Traceback (most recent call last)",
            "\u001b[0;32m<ipython-input-50-06f3521cadb0>\u001b[0m in \u001b[0;36m<module>\u001b[0;34m()\u001b[0m\n\u001b[1;32m      2\u001b[0m \u001b[0;31m# se o nome já existir, vai dar erro, se o número de dados não bater com o número de linhas, vai dar erro.\u001b[0m\u001b[0;34m\u001b[0m\u001b[0;34m\u001b[0m\u001b[0;34m\u001b[0m\u001b[0m\n\u001b[1;32m      3\u001b[0m \u001b[0;34m\u001b[0m\u001b[0m\n\u001b[0;32m----> 4\u001b[0;31m \u001b[0mbcodados\u001b[0m\u001b[0;34m.\u001b[0m\u001b[0minsert\u001b[0m\u001b[0;34m(\u001b[0m\u001b[0mloc\u001b[0m\u001b[0;34m=\u001b[0m\u001b[0;36m3\u001b[0m\u001b[0;34m,\u001b[0m \u001b[0mcolumn\u001b[0m \u001b[0;34m=\u001b[0m \u001b[0;34m'Nova Coluna'\u001b[0m\u001b[0;34m,\u001b[0m \u001b[0mvalue\u001b[0m\u001b[0;34m=\u001b[0m \u001b[0;34m[\u001b[0m\u001b[0;36m1\u001b[0m\u001b[0;34m,\u001b[0m\u001b[0;36m2\u001b[0m\u001b[0;34m,\u001b[0m\u001b[0;36m3\u001b[0m\u001b[0;34m]\u001b[0m\u001b[0;34m)\u001b[0m \u001b[0;31m# loc = onde a coluna vai se localizar, sendo que a identação ou contagem começa do 0\u001b[0m\u001b[0;34m\u001b[0m\u001b[0;34m\u001b[0m\u001b[0m\n\u001b[0m\u001b[1;32m      5\u001b[0m \u001b[0mbcodados\u001b[0m\u001b[0;34m\u001b[0m\u001b[0;34m\u001b[0m\u001b[0m\n",
            "\u001b[0;32m/usr/local/lib/python3.6/dist-packages/pandas/core/frame.py\u001b[0m in \u001b[0;36minsert\u001b[0;34m(self, loc, column, value, allow_duplicates)\u001b[0m\n\u001b[1;32m   3494\u001b[0m         \u001b[0mself\u001b[0m\u001b[0;34m.\u001b[0m\u001b[0m_ensure_valid_index\u001b[0m\u001b[0;34m(\u001b[0m\u001b[0mvalue\u001b[0m\u001b[0;34m)\u001b[0m\u001b[0;34m\u001b[0m\u001b[0;34m\u001b[0m\u001b[0m\n\u001b[1;32m   3495\u001b[0m         \u001b[0mvalue\u001b[0m \u001b[0;34m=\u001b[0m \u001b[0mself\u001b[0m\u001b[0;34m.\u001b[0m\u001b[0m_sanitize_column\u001b[0m\u001b[0;34m(\u001b[0m\u001b[0mcolumn\u001b[0m\u001b[0;34m,\u001b[0m \u001b[0mvalue\u001b[0m\u001b[0;34m,\u001b[0m \u001b[0mbroadcast\u001b[0m\u001b[0;34m=\u001b[0m\u001b[0;32mFalse\u001b[0m\u001b[0;34m)\u001b[0m\u001b[0;34m\u001b[0m\u001b[0;34m\u001b[0m\u001b[0m\n\u001b[0;32m-> 3496\u001b[0;31m         \u001b[0mself\u001b[0m\u001b[0;34m.\u001b[0m\u001b[0m_data\u001b[0m\u001b[0;34m.\u001b[0m\u001b[0minsert\u001b[0m\u001b[0;34m(\u001b[0m\u001b[0mloc\u001b[0m\u001b[0;34m,\u001b[0m \u001b[0mcolumn\u001b[0m\u001b[0;34m,\u001b[0m \u001b[0mvalue\u001b[0m\u001b[0;34m,\u001b[0m \u001b[0mallow_duplicates\u001b[0m\u001b[0;34m=\u001b[0m\u001b[0mallow_duplicates\u001b[0m\u001b[0;34m)\u001b[0m\u001b[0;34m\u001b[0m\u001b[0;34m\u001b[0m\u001b[0m\n\u001b[0m\u001b[1;32m   3497\u001b[0m \u001b[0;34m\u001b[0m\u001b[0m\n\u001b[1;32m   3498\u001b[0m     \u001b[0;32mdef\u001b[0m \u001b[0massign\u001b[0m\u001b[0;34m(\u001b[0m\u001b[0mself\u001b[0m\u001b[0;34m,\u001b[0m \u001b[0;34m**\u001b[0m\u001b[0mkwargs\u001b[0m\u001b[0;34m)\u001b[0m \u001b[0;34m->\u001b[0m \u001b[0;34m\"DataFrame\"\u001b[0m\u001b[0;34m:\u001b[0m\u001b[0;34m\u001b[0m\u001b[0;34m\u001b[0m\u001b[0m\n",
            "\u001b[0;32m/usr/local/lib/python3.6/dist-packages/pandas/core/internals/managers.py\u001b[0m in \u001b[0;36minsert\u001b[0;34m(self, loc, item, value, allow_duplicates)\u001b[0m\n\u001b[1;32m   1171\u001b[0m         \u001b[0;32mif\u001b[0m \u001b[0;32mnot\u001b[0m \u001b[0mallow_duplicates\u001b[0m \u001b[0;32mand\u001b[0m \u001b[0mitem\u001b[0m \u001b[0;32min\u001b[0m \u001b[0mself\u001b[0m\u001b[0;34m.\u001b[0m\u001b[0mitems\u001b[0m\u001b[0;34m:\u001b[0m\u001b[0;34m\u001b[0m\u001b[0;34m\u001b[0m\u001b[0m\n\u001b[1;32m   1172\u001b[0m             \u001b[0;31m# Should this be a different kind of error??\u001b[0m\u001b[0;34m\u001b[0m\u001b[0;34m\u001b[0m\u001b[0;34m\u001b[0m\u001b[0m\n\u001b[0;32m-> 1173\u001b[0;31m             \u001b[0;32mraise\u001b[0m \u001b[0mValueError\u001b[0m\u001b[0;34m(\u001b[0m\u001b[0;34mf\"cannot insert {item}, already exists\"\u001b[0m\u001b[0;34m)\u001b[0m\u001b[0;34m\u001b[0m\u001b[0;34m\u001b[0m\u001b[0m\n\u001b[0m\u001b[1;32m   1174\u001b[0m \u001b[0;34m\u001b[0m\u001b[0m\n\u001b[1;32m   1175\u001b[0m         \u001b[0;32mif\u001b[0m \u001b[0;32mnot\u001b[0m \u001b[0misinstance\u001b[0m\u001b[0;34m(\u001b[0m\u001b[0mloc\u001b[0m\u001b[0;34m,\u001b[0m \u001b[0mint\u001b[0m\u001b[0;34m)\u001b[0m\u001b[0;34m:\u001b[0m\u001b[0;34m\u001b[0m\u001b[0;34m\u001b[0m\u001b[0m\n",
            "\u001b[0;31mValueError\u001b[0m: cannot insert Nova Coluna, already exists"
          ]
        }
      ]
    },
    {
      "cell_type": "markdown",
      "metadata": {
        "id": "frdH7HOd9I4Z",
        "colab_type": "text"
      },
      "source": [
        "Para selecionar apenas uma coluna no banco de dados:"
      ]
    },
    {
      "cell_type": "code",
      "metadata": {
        "id": "QFp_QjTj9MgZ",
        "colab_type": "code",
        "colab": {
          "base_uri": "https://localhost:8080/",
          "height": 136
        },
        "outputId": "e0276fa9-c617-4b55-bad3-196287604f2b"
      },
      "source": [
        "# colocar o nome do banco de dados e dentro de dois parenteses o nome da coluna:\n",
        "\n",
        "bcodados[['Idade']]"
      ],
      "execution_count": null,
      "outputs": [
        {
          "output_type": "execute_result",
          "data": {
            "text/html": [
              "<div>\n",
              "<style scoped>\n",
              "    .dataframe tbody tr th:only-of-type {\n",
              "        vertical-align: middle;\n",
              "    }\n",
              "\n",
              "    .dataframe tbody tr th {\n",
              "        vertical-align: top;\n",
              "    }\n",
              "\n",
              "    .dataframe thead th {\n",
              "        text-align: right;\n",
              "    }\n",
              "</style>\n",
              "<table border=\"1\" class=\"dataframe\">\n",
              "  <thead>\n",
              "    <tr style=\"text-align: right;\">\n",
              "      <th></th>\n",
              "      <th>Idade</th>\n",
              "    </tr>\n",
              "  </thead>\n",
              "  <tbody>\n",
              "    <tr>\n",
              "      <th>0</th>\n",
              "      <td>42</td>\n",
              "    </tr>\n",
              "    <tr>\n",
              "      <th>1</th>\n",
              "      <td>52</td>\n",
              "    </tr>\n",
              "    <tr>\n",
              "      <th>2</th>\n",
              "      <td>36</td>\n",
              "    </tr>\n",
              "  </tbody>\n",
              "</table>\n",
              "</div>"
            ],
            "text/plain": [
              "   Idade\n",
              "0     42\n",
              "1     52\n",
              "2     36"
            ]
          },
          "metadata": {
            "tags": []
          },
          "execution_count": 41
        }
      ]
    },
    {
      "cell_type": "markdown",
      "metadata": {
        "id": "AewSrketzPeA",
        "colab_type": "text"
      },
      "source": [
        "Para salvar um arquivo que foi manipulado ou criado:"
      ]
    },
    {
      "cell_type": "code",
      "metadata": {
        "id": "iMhbv6_eze_M",
        "colab_type": "code",
        "colab": {}
      },
      "source": [
        "# Para esse exemplo foi usado o banco que dados que acabou de ser criado, mas poderia ser qualquer um deste notebook:\n",
        "# Obs - ele vai ser salvo no mesmo diretório o qual o notebook está inserido caso não seja especificado caminho dentro do parenteses\n",
        "# Nota2 - Se estiver usando o Google Colab ele vai salvar na pasta sample_data. É recomendado baixar ou salvar no Drive depois.\n",
        "\n",
        "bcodados.to_excel('arquivo_criado.xlsx') # para formato excel\n",
        "bcodados.to_csv('arquivo.criado.csv') # para formato csv"
      ],
      "execution_count": null,
      "outputs": []
    }
  ]
}