{
  "nbformat": 4,
  "nbformat_minor": 0,
  "metadata": {
    "colab": {
      "name": "Matplotlib - Instruções.ipynb",
      "provenance": [],
      "authorship_tag": "ABX9TyPqIQyaFnpIjL0R6Hud+6hf",
      "include_colab_link": true
    },
    "kernelspec": {
      "name": "python3",
      "display_name": "Python 3"
    }
  },
  "cells": [
    {
      "cell_type": "markdown",
      "metadata": {
        "id": "view-in-github",
        "colab_type": "text"
      },
      "source": [
        "<a href=\"https://colab.research.google.com/github/gabrieldepaiva/Projetos_CursoDSA/blob/master/Matplotlib_Instru%C3%A7%C3%B5es.ipynb\" target=\"_parent\"><img src=\"https://colab.research.google.com/assets/colab-badge.svg\" alt=\"Open In Colab\"/></a>"
      ]
    },
    {
      "cell_type": "markdown",
      "metadata": {
        "id": "QRi6axufpeXi",
        "colab_type": "text"
      },
      "source": [
        "# Instruções de uso da biblioteca Matplotlib"
      ]
    },
    {
      "cell_type": "code",
      "metadata": {
        "id": "WxcKE4_Dpkq4",
        "colab_type": "code",
        "colab": {}
      },
      "source": [
        "# Gerando o grupo de números a ser analisado:\n",
        "\n",
        "lista1 = [1,2,3,4,5,6,7,8,9,10]\n",
        "lista2 = [10,15,20,25,30,35,40,45,50,55]\n",
        "lista3 = [50,40,30,20,10,-10,-20,-30,-40,-50]"
      ],
      "execution_count": 46,
      "outputs": []
    },
    {
      "cell_type": "markdown",
      "metadata": {
        "id": "szotBpi8qK4z",
        "colab_type": "text"
      },
      "source": [
        "Essa biblioteca serve para plotar uma série de números e tirar análises prévias sobre ele"
      ]
    },
    {
      "cell_type": "code",
      "metadata": {
        "id": "GMMYRkFNqTKs",
        "colab_type": "code",
        "colab": {}
      },
      "source": [
        "import matplotlib.pyplot as plt\n",
        "\n",
        "eixox = lista1\n",
        "eixoy = lista2"
      ],
      "execution_count": 47,
      "outputs": []
    },
    {
      "cell_type": "markdown",
      "metadata": {
        "id": "3oR93OCXrvMv",
        "colab_type": "text"
      },
      "source": [
        "Plotar um gráfico de linhas:"
      ]
    },
    {
      "cell_type": "code",
      "metadata": {
        "id": "29nofhiZrzSO",
        "colab_type": "code",
        "colab": {
          "base_uri": "https://localhost:8080/",
          "height": 282
        },
        "outputId": "4099ab8b-0fb4-48af-e1dd-7cfeb6cd4b01"
      },
      "source": [
        "# Primeiro argumento - eixo x\n",
        "# Segundo argumento - eixo y\n",
        "\n",
        "plt.plot(eixox, eixoy) "
      ],
      "execution_count": 48,
      "outputs": [
        {
          "output_type": "execute_result",
          "data": {
            "text/plain": [
              "[<matplotlib.lines.Line2D at 0x7f4cc63e3320>]"
            ]
          },
          "metadata": {
            "tags": []
          },
          "execution_count": 48
        },
        {
          "output_type": "display_data",
          "data": {
            "image/png": "[encoded data removed]",
            "text/plain": [
              "<Figure size 432x288 with 1 Axes>"
            ]
          },
          "metadata": {
            "tags": [],
            "needs_background": "light"
          }
        }
      ]
    },
    {
      "cell_type": "markdown",
      "metadata": {
        "id": "4dKC38CUuAXb",
        "colab_type": "text"
      },
      "source": [
        "Para plotar dois grupos de linhas em um mesmo gráfico:"
      ]
    },
    {
      "cell_type": "code",
      "metadata": {
        "id": "aqozn0jruG9O",
        "colab_type": "code",
        "colab": {
          "base_uri": "https://localhost:8080/",
          "height": 464
        },
        "outputId": "508611a9-c4fc-46e8-871f-bb23c869b002"
      },
      "source": [
        "# colocar dos grupos de números na mesma célula:\n",
        "\n",
        "plt.plot(lista1, lista2)\n",
        "plt.plot(lista1, lista3)"
      ],
      "execution_count": 51,
      "outputs": [
        {
          "output_type": "error",
          "ename": "TypeError",
          "evalue": "ignored",
          "traceback": [
            "\u001b[0;31m---------------------------------------------------------------------------\u001b[0m",
            "\u001b[0;31mTypeError\u001b[0m                                 Traceback (most recent call last)",
            "\u001b[0;32m<ipython-input-51-ff8257d7e657>\u001b[0m in \u001b[0;36m<module>\u001b[0;34m()\u001b[0m\n\u001b[1;32m      3\u001b[0m \u001b[0mplt\u001b[0m\u001b[0;34m.\u001b[0m\u001b[0mplot\u001b[0m\u001b[0;34m(\u001b[0m\u001b[0mlista1\u001b[0m\u001b[0;34m,\u001b[0m \u001b[0mlista2\u001b[0m\u001b[0;34m)\u001b[0m\u001b[0;34m\u001b[0m\u001b[0;34m\u001b[0m\u001b[0m\n\u001b[1;32m      4\u001b[0m \u001b[0mplt\u001b[0m\u001b[0;34m.\u001b[0m\u001b[0mplot\u001b[0m\u001b[0;34m(\u001b[0m\u001b[0mlista1\u001b[0m\u001b[0;34m,\u001b[0m \u001b[0mlista3\u001b[0m\u001b[0;34m)\u001b[0m\u001b[0;34m\u001b[0m\u001b[0;34m\u001b[0m\u001b[0m\n\u001b[0;32m----> 5\u001b[0;31m \u001b[0mplt\u001b[0m\u001b[0;34m.\u001b[0m\u001b[0mylim\u001b[0m\u001b[0;34m(\u001b[0m\u001b[0;36m5\u001b[0m\u001b[0;34m,\u001b[0m \u001b[0;36m10\u001b[0m\u001b[0;34m)\u001b[0m\u001b[0;34m\u001b[0m\u001b[0;34m\u001b[0m\u001b[0m\n\u001b[0m\u001b[1;32m      6\u001b[0m \u001b[0mplt\u001b[0m\u001b[0;34m.\u001b[0m\u001b[0mxlim\u001b[0m\u001b[0;34m(\u001b[0m\u001b[0;36m25\u001b[0m\u001b[0;34m,\u001b[0m \u001b[0;36m50\u001b[0m\u001b[0;34m)\u001b[0m\u001b[0;34m\u001b[0m\u001b[0;34m\u001b[0m\u001b[0m\n",
            "\u001b[0;31mTypeError\u001b[0m: 'tuple' object is not callable"
          ]
        },
        {
          "output_type": "display_data",
          "data": {
            "image/png": "[encoded data removed]",
            "text/plain": [
              "<Figure size 432x288 with 1 Axes>"
            ]
          },
          "metadata": {
            "tags": [],
            "needs_background": "light"
          }
        }
      ]
    },
    {
      "cell_type": "markdown",
      "metadata": {
        "id": "D6vnKmQRAIEp",
        "colab_type": "text"
      },
      "source": [
        "Tipos de gráficos:"
      ]
    },
    {
      "cell_type": "code",
      "metadata": {
        "id": "WJ5EPStOBcLG",
        "colab_type": "code",
        "colab": {}
      },
      "source": [
        "# Linhas:\n",
        "plt.plot(eixox, eixoy)"
      ],
      "execution_count": null,
      "outputs": []
    },
    {
      "cell_type": "code",
      "metadata": {
        "id": "I41szrRhAKGu",
        "colab_type": "code",
        "colab": {}
      },
      "source": [
        "# Barras:\n",
        "plt.bar(eixox, eixoy)"
      ],
      "execution_count": null,
      "outputs": []
    },
    {
      "cell_type": "code",
      "metadata": {
        "id": "bLdaDZdzAgZ0",
        "colab_type": "code",
        "colab": {}
      },
      "source": [
        "# Dispersão:\n",
        "plt.scatter(eixox, eixoy)"
      ],
      "execution_count": null,
      "outputs": []
    },
    {
      "cell_type": "code",
      "metadata": {
        "id": "Ig_7hDMtAmWR",
        "colab_type": "code",
        "colab": {}
      },
      "source": [
        "# Pizza:\n",
        "plt.pie(eixox)"
      ],
      "execution_count": null,
      "outputs": []
    },
    {
      "cell_type": "markdown",
      "metadata": {
        "id": "OZv3qBEWBRJR",
        "colab_type": "text"
      },
      "source": [
        "Customizando o gráfico:"
      ]
    },
    {
      "cell_type": "code",
      "metadata": {
        "id": "6q0mhbtHBT8L",
        "colab_type": "code",
        "colab": {
          "base_uri": "https://localhost:8080/",
          "height": 322
        },
        "outputId": "d95bcbbf-0b52-4b67-fcd5-6e0e222ff490"
      },
      "source": [
        "# LineWidth - espessura da linha do gráfico \n",
        "# Color - cor da linha do gráfico\n",
        "# Label - legenda do gráfico, sendo que para aparecer precisa colocar abaixo o comando .legend()\n",
        "# xlim e ylim - determinam até que ponto os eixos x e y serão plotados\n",
        "# xticks e yticks - escolhe quais números irão aparecer em cada um dos eixos dos gráficos\n",
        "# grid - coloca os quadradinhos dentro do gráfico\n",
        "# title() - coloca um título no gráfico\n",
        "# xlabel e ylabel - legenda dos eios x e y\n",
        "\n",
        "plt.plot(eixox, eixoy, LineWidth=5, Color=\"Red\", label='Legenda')\n",
        "plt.legend()\n",
        "plt.xticks([0,5,10])\n",
        "plt.yticks([0,25,50])\n",
        "plt.title ('Gráfico')\n",
        "plt.xlabel('Eixo X')\n",
        "plt.ylabel('Eixo Y')\n",
        "plt.grid(True)\n",
        "\n",
        "# se quiser salvar a figura, usar o comando plt.savefig('Nome do Arquivo.formato', formato = 'formato', dpi = resolução)"
      ],
      "execution_count": 78,
      "outputs": [
        {
          "output_type": "display_data",
          "data": {
            "image/png": "[encoded data removed]",
            "text/plain": [
              "<Figure size 432x288 with 1 Axes>"
            ]
          },
          "metadata": {
            "tags": [],
            "needs_background": "light"
          }
        }
      ]
    }
  ]
}