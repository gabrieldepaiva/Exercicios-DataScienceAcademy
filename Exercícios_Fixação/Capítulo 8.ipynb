{
 "cells": [
  {
   "cell_type": "markdown",
   "metadata": {},
   "source": [
    "# Resolução Exercício 1 - Comparar Lista e Array"
   ]
  },
  {
   "cell_type": "code",
   "execution_count": 19,
   "metadata": {},
   "outputs": [],
   "source": [
    "import numpy\n",
    "\n",
    "array = numpy.arange(1000000)\n",
    "lista = list(range(1000000))"
   ]
  },
  {
   "cell_type": "code",
   "execution_count": 20,
   "metadata": {
    "collapsed": true
   },
   "outputs": [
    {
     "name": "stdout",
     "output_type": "stream",
     "text": [
      "Wall time: 681 ms\n",
      "Wall time: 166 ms\n"
     ]
    }
   ],
   "source": [
    "%time for e in array: e2 = e * 2\n",
    "%time for n in lista: n2 = n * 2"
   ]
  },
  {
   "cell_type": "markdown",
   "metadata": {},
   "source": [
    "# Resolução Exercício 2 - Criar uma array de dez elementos e mudar os elementos nos índices 5 a 8 para 0"
   ]
  },
  {
   "cell_type": "code",
   "execution_count": 25,
   "metadata": {
    "collapsed": true
   },
   "outputs": [
    {
     "data": {
      "text/plain": [
       "array([0, 1, 2, 3, 4, 5, 6, 7, 8, 9])"
      ]
     },
     "execution_count": 25,
     "metadata": {},
     "output_type": "execute_result"
    }
   ],
   "source": [
    "array2 = numpy.arange(10)\n",
    "array2"
   ]
  },
  {
   "cell_type": "code",
   "execution_count": 27,
   "metadata": {
    "collapsed": true
   },
   "outputs": [
    {
     "data": {
      "text/plain": [
       "array([0, 1, 2, 3, 4, 0, 0, 0, 8, 9])"
      ]
     },
     "execution_count": 27,
     "metadata": {},
     "output_type": "execute_result"
    }
   ],
   "source": [
    "array2[5:8] = 0\n",
    "array2"
   ]
  },
  {
   "cell_type": "markdown",
   "metadata": {},
   "source": [
    "# Resolução Exercício 3 - Criar uma matriz de três dimensões e imprimir a primeira dimensão."
   ]
  },
  {
   "cell_type": "code",
   "execution_count": 29,
   "metadata": {
    "collapsed": true
   },
   "outputs": [
    {
     "data": {
      "text/plain": [
       "array([[0, 1, 2],\n",
       "       [3, 4, 5]])"
      ]
     },
     "execution_count": 29,
     "metadata": {},
     "output_type": "execute_result"
    }
   ],
   "source": [
    "array3d = numpy.array([[[0,1,2],[3,4,5]],[[6,7,8],[9,10,11]]])\n",
    "(array3d[0]) # imprimir a primeira dimensao deste array de três dimensões"
   ]
  },
  {
   "cell_type": "markdown",
   "metadata": {},
   "source": [
    "# Resolução Exercício 4 - Criar uma matriz e:"
   ]
  },
  {
   "cell_type": "code",
   "execution_count": 30,
   "metadata": {
    "collapsed": true
   },
   "outputs": [
    {
     "data": {
      "text/plain": [
       "array([[0, 1, 2],\n",
       "       [3, 4, 5],\n",
       "       [6, 7, 8]])"
      ]
     },
     "execution_count": 30,
     "metadata": {},
     "output_type": "execute_result"
    }
   ],
   "source": [
    "matriz1 = numpy.array([[0,1,2],[3,4,5],[6,7,8]])\n",
    "matriz1"
   ]
  },
  {
   "cell_type": "code",
   "execution_count": 32,
   "metadata": {
    "collapsed": true
   },
   "outputs": [
    {
     "data": {
      "text/plain": [
       "array([6, 7, 8])"
      ]
     },
     "execution_count": 32,
     "metadata": {},
     "output_type": "execute_result"
    }
   ],
   "source": [
    "matriz1[2] # imprimir a última linha"
   ]
  },
  {
   "cell_type": "code",
   "execution_count": 44,
   "metadata": {
    "collapsed": true
   },
   "outputs": [
    {
     "data": {
      "text/plain": [
       "array([[1, 2],\n",
       "       [4, 5]])"
      ]
     },
     "execution_count": 44,
     "metadata": {},
     "output_type": "execute_result"
    }
   ],
   "source": [
    "matriz1[0:2,1:3] # imprimir os elementos da primeira e segunda linha, segunda e terceira coluna"
   ]
  },
  {
   "cell_type": "markdown",
   "metadata": {},
   "source": [
    "# Resolução Exercício 5 - Criar uma matriz e calcular a sua transposta"
   ]
  },
  {
   "cell_type": "code",
   "execution_count": 48,
   "metadata": {
    "collapsed": true
   },
   "outputs": [
    {
     "data": {
      "text/plain": [
       "array([[ 0,  1,  2,  3,  4],\n",
       "       [ 5,  6,  7,  8,  9],\n",
       "       [10, 11, 12, 13, 14]])"
      ]
     },
     "execution_count": 48,
     "metadata": {},
     "output_type": "execute_result"
    }
   ],
   "source": [
    "# Módulo Reshape - pela uma lista de números e transforma em matriz, sendo que o primeiro argumento é linhas e o segundo colunas\n",
    "matriz2 = numpy.arange(15).reshape(3,5) \n",
    "matriz2"
   ]
  },
  {
   "cell_type": "code",
   "execution_count": 53,
   "metadata": {
    "collapsed": true
   },
   "outputs": [
    {
     "data": {
      "text/plain": [
       "array([[ 0,  5, 10],\n",
       "       [ 1,  6, 11],\n",
       "       [ 2,  7, 12],\n",
       "       [ 3,  8, 13],\n",
       "       [ 4,  9, 14]])"
      ]
     },
     "execution_count": 53,
     "metadata": {},
     "output_type": "execute_result"
    }
   ],
   "source": [
    "# Matriz Transposta - método T maiúsculo, com a letra minúscula não funciona\n",
    "matriz2.T"
   ]
  },
  {
   "cell_type": "markdown",
   "metadata": {},
   "source": [
    "# Resolução Exercício 6 - Retorne o valor do array_a se o valor for True no array cond. Caso contrário, retorne o valor do array_b."
   ]
  },
  {
   "cell_type": "code",
   "execution_count": 55,
   "metadata": {},
   "outputs": [],
   "source": [
    "array_a = numpy.array([1.1, 1.2, 1.3, 1.4, 1.5])\n",
    "array_b = numpy.array([2.1, 2.2, 2.3, 2.4, 2.5])\n",
    "cond = numpy.array([True, False, True, True, False])"
   ]
  },
  {
   "cell_type": "code",
   "execution_count": 80,
   "metadata": {},
   "outputs": [
    {
     "data": {
      "text/plain": [
       "array([1.1, 2.2, 1.3, 1.4, 2.5])"
      ]
     },
     "execution_count": 80,
     "metadata": {},
     "output_type": "execute_result"
    }
   ],
   "source": [
    "lista = []\n",
    "for i, v in enumerate(cond): \n",
    "    if v == False:\n",
    "        lista.append(array_b[i])\n",
    "    else:    \n",
    "        lista.append(array_a[i])\n",
    "resposta = numpy.array(lista)\n",
    "resposta"
   ]
  },
  {
   "cell_type": "markdown",
   "metadata": {},
   "source": [
    "# Resolução Exercício 7 - Criar um Array de dez elementos, salvar em disco no formato npy e carregar em um outro array"
   ]
  },
  {
   "cell_type": "code",
   "execution_count": 85,
   "metadata": {},
   "outputs": [
    {
     "name": "stdout",
     "output_type": "stream",
     "text": [
      "[0 1 2 3 4 5 6 7 8 9]\n"
     ]
    }
   ],
   "source": [
    "array3 = numpy.arange(10)\n",
    "numpy.save('nome do arquivo.npy',array3) # comando para salvar algum array de números em disco\n",
    "print(array3)"
   ]
  },
  {
   "cell_type": "code",
   "execution_count": 86,
   "metadata": {},
   "outputs": [
    {
     "data": {
      "text/plain": [
       "array([0, 1, 2, 3, 4, 5, 6, 7, 8, 9])"
      ]
     },
     "execution_count": 86,
     "metadata": {},
     "output_type": "execute_result"
    }
   ],
   "source": [
    "array4 = numpy.load('nome do arquivo.npy') # comando para carregar algum array que esteja gravado em disco\n",
    "array4"
   ]
  },
  {
   "cell_type": "markdown",
   "metadata": {},
   "source": [
    "# Resolução Exercício 8 - Retornar os valores únicos da série abaixo:"
   ]
  },
  {
   "cell_type": "code",
   "execution_count": 87,
   "metadata": {},
   "outputs": [],
   "source": [
    "import pandas as pd\n",
    "obj = pd.Series(['c', 'a', 'd', 'a', 'a', 'b', 'b', 'c', 'c', 'a', 'b'])"
   ]
  },
  {
   "cell_type": "code",
   "execution_count": 95,
   "metadata": {},
   "outputs": [
    {
     "name": "stdout",
     "output_type": "stream",
     "text": [
      "['c' 'a' 'd' 'b']\n"
     ]
    }
   ],
   "source": [
    "resposta = obj.unique()\n",
    "print(resposta)"
   ]
  },
  {
   "cell_type": "markdown",
   "metadata": {},
   "source": [
    "# Resolução Exercício 9 - Abrir o dataframe do endereço disposto abaixo:"
   ]
  },
  {
   "cell_type": "code",
   "execution_count": 98,
   "metadata": {},
   "outputs": [
    {
     "data": {
      "text/plain": [
       "<Response [200]>"
      ]
     },
     "execution_count": 98,
     "metadata": {},
     "output_type": "execute_result"
    }
   ],
   "source": [
    "url = 'https://api.github.com/repos/pandas-dev/pandas/issues'\n",
    "\n",
    "import requests\n",
    "site = requests.get(url)\n",
    "site"
   ]
  },
  {
   "cell_type": "code",
   "execution_count": 108,
   "metadata": {},
   "outputs": [],
   "source": [
    "data = site.json()"
   ]
  },
  {
   "cell_type": "code",
   "execution_count": 109,
   "metadata": {},
   "outputs": [
    {
     "data": {
      "text/html": [
       "<div>\n",
       "<style scoped>\n",
       "    .dataframe tbody tr th:only-of-type {\n",
       "        vertical-align: middle;\n",
       "    }\n",
       "\n",
       "    .dataframe tbody tr th {\n",
       "        vertical-align: top;\n",
       "    }\n",
       "\n",
       "    .dataframe thead th {\n",
       "        text-align: right;\n",
       "    }\n",
       "</style>\n",
       "<table border=\"1\" class=\"dataframe\">\n",
       "  <thead>\n",
       "    <tr style=\"text-align: right;\">\n",
       "      <th></th>\n",
       "      <th>number</th>\n",
       "      <th>title</th>\n",
       "      <th>labels</th>\n",
       "      <th>state</th>\n",
       "    </tr>\n",
       "  </thead>\n",
       "  <tbody>\n",
       "    <tr>\n",
       "      <th>0</th>\n",
       "      <td>36403</td>\n",
       "      <td>BLD:CI try to fix arm64 build #36397</td>\n",
       "      <td>[]</td>\n",
       "      <td>open</td>\n",
       "    </tr>\n",
       "    <tr>\n",
       "      <th>1</th>\n",
       "      <td>36402</td>\n",
       "      <td>BLD/CI: support for 3.9</td>\n",
       "      <td>[{'id': 129350, 'node_id': 'MDU6TGFiZWwxMjkzNT...</td>\n",
       "      <td>open</td>\n",
       "    </tr>\n",
       "    <tr>\n",
       "      <th>2</th>\n",
       "      <td>36401</td>\n",
       "      <td>TYP: alias IndexLabel without Optional</td>\n",
       "      <td>[{'id': 1280988427, 'node_id': 'MDU6TGFiZWwxMj...</td>\n",
       "      <td>open</td>\n",
       "    </tr>\n",
       "    <tr>\n",
       "      <th>3</th>\n",
       "      <td>36400</td>\n",
       "      <td>REF: implement putmask for CI/DTI/TDI/PI</td>\n",
       "      <td>[]</td>\n",
       "      <td>open</td>\n",
       "    </tr>\n",
       "    <tr>\n",
       "      <th>4</th>\n",
       "      <td>36398</td>\n",
       "      <td>Backport PR #36378: DOC: move release note for...</td>\n",
       "      <td>[{'id': 134699, 'node_id': 'MDU6TGFiZWwxMzQ2OT...</td>\n",
       "      <td>open</td>\n",
       "    </tr>\n",
       "    <tr>\n",
       "      <th>5</th>\n",
       "      <td>36397</td>\n",
       "      <td>BLD/CI: fix arm64 builds</td>\n",
       "      <td>[{'id': 129350, 'node_id': 'MDU6TGFiZWwxMjkzNT...</td>\n",
       "      <td>open</td>\n",
       "    </tr>\n",
       "    <tr>\n",
       "      <th>6</th>\n",
       "      <td>36396</td>\n",
       "      <td>Backport PR #36371 on branch 1.1.x (BUG: Fix M...</td>\n",
       "      <td>[{'id': 71268330, 'node_id': 'MDU6TGFiZWw3MTI2...</td>\n",
       "      <td>open</td>\n",
       "    </tr>\n",
       "    <tr>\n",
       "      <th>7</th>\n",
       "      <td>36395</td>\n",
       "      <td>BUG: indexing with DataFrame with nullable boo...</td>\n",
       "      <td>[{'id': 76811, 'node_id': 'MDU6TGFiZWw3NjgxMQ=...</td>\n",
       "      <td>open</td>\n",
       "    </tr>\n",
       "    <tr>\n",
       "      <th>8</th>\n",
       "      <td>36394</td>\n",
       "      <td>CLN: remove unnecessary _convert_index_indexer</td>\n",
       "      <td>[{'id': 211029535, 'node_id': 'MDU6TGFiZWwyMTE...</td>\n",
       "      <td>open</td>\n",
       "    </tr>\n",
       "    <tr>\n",
       "      <th>9</th>\n",
       "      <td>36391</td>\n",
       "      <td>REF: share __getitem__ for Categorical/PandasA...</td>\n",
       "      <td>[{'id': 211029535, 'node_id': 'MDU6TGFiZWwyMTE...</td>\n",
       "      <td>open</td>\n",
       "    </tr>\n",
       "    <tr>\n",
       "      <th>10</th>\n",
       "      <td>36388</td>\n",
       "      <td>CLN: Made final changes to /pandas/tests/scalar</td>\n",
       "      <td>[{'id': 211029535, 'node_id': 'MDU6TGFiZWwyMTE...</td>\n",
       "      <td>open</td>\n",
       "    </tr>\n",
       "    <tr>\n",
       "      <th>11</th>\n",
       "      <td>36386</td>\n",
       "      <td>BLD: Restrict ci/code_checks.sh to tracked rep...</td>\n",
       "      <td>[{'id': 48070600, 'node_id': 'MDU6TGFiZWw0ODA3...</td>\n",
       "      <td>open</td>\n",
       "    </tr>\n",
       "    <tr>\n",
       "      <th>12</th>\n",
       "      <td>36385</td>\n",
       "      <td>BUG: Always cast to Categorical in lexsort_ind...</td>\n",
       "      <td>[{'id': 57296398, 'node_id': 'MDU6TGFiZWw1NzI5...</td>\n",
       "      <td>open</td>\n",
       "    </tr>\n",
       "    <tr>\n",
       "      <th>13</th>\n",
       "      <td>36384</td>\n",
       "      <td>REF: _is_compatible_with_other -&gt; _can_union_w...</td>\n",
       "      <td>[]</td>\n",
       "      <td>open</td>\n",
       "    </tr>\n",
       "    <tr>\n",
       "      <th>14</th>\n",
       "      <td>36383</td>\n",
       "      <td>BUG: df.sort_values w/ key function fails with...</td>\n",
       "      <td>[{'id': 57296398, 'node_id': 'MDU6TGFiZWw1NzI5...</td>\n",
       "      <td>open</td>\n",
       "    </tr>\n",
       "    <tr>\n",
       "      <th>15</th>\n",
       "      <td>36382</td>\n",
       "      <td>ADMIN: Update stale PR action</td>\n",
       "      <td>[{'id': 32933285, 'node_id': 'MDU6TGFiZWwzMjkz...</td>\n",
       "      <td>open</td>\n",
       "    </tr>\n",
       "    <tr>\n",
       "      <th>16</th>\n",
       "      <td>36380</td>\n",
       "      <td>ENH: Make non-aggregating methods on groupby g...</td>\n",
       "      <td>[{'id': 76812, 'node_id': 'MDU6TGFiZWw3NjgxMg=...</td>\n",
       "      <td>open</td>\n",
       "    </tr>\n",
       "    <tr>\n",
       "      <th>17</th>\n",
       "      <td>36377</td>\n",
       "      <td>BUG: Weird behavior for comparison operations ...</td>\n",
       "      <td>[{'id': 76811, 'node_id': 'MDU6TGFiZWw3NjgxMQ=...</td>\n",
       "      <td>open</td>\n",
       "    </tr>\n",
       "    <tr>\n",
       "      <th>18</th>\n",
       "      <td>36375</td>\n",
       "      <td>BUG: MultiIndex.from_tuples() fails to infer d...</td>\n",
       "      <td>[{'id': 76811, 'node_id': 'MDU6TGFiZWw3NjgxMQ=...</td>\n",
       "      <td>open</td>\n",
       "    </tr>\n",
       "    <tr>\n",
       "      <th>19</th>\n",
       "      <td>36374</td>\n",
       "      <td>BUG: FooIndex.insert casting datetimelike NAs ...</td>\n",
       "      <td>[]</td>\n",
       "      <td>open</td>\n",
       "    </tr>\n",
       "    <tr>\n",
       "      <th>20</th>\n",
       "      <td>36373</td>\n",
       "      <td>REGR: inplace arithmetic operation on Series n...</td>\n",
       "      <td>[{'id': 2085877452, 'node_id': 'MDU6TGFiZWwyMD...</td>\n",
       "      <td>open</td>\n",
       "    </tr>\n",
       "    <tr>\n",
       "      <th>21</th>\n",
       "      <td>36372</td>\n",
       "      <td>REF: de-duplicate IntervalIndex compat code</td>\n",
       "      <td>[]</td>\n",
       "      <td>open</td>\n",
       "    </tr>\n",
       "    <tr>\n",
       "      <th>22</th>\n",
       "      <td>36369</td>\n",
       "      <td>DOC: Enhance asfreq docs</td>\n",
       "      <td>[{'id': 134699, 'node_id': 'MDU6TGFiZWwxMzQ2OT...</td>\n",
       "      <td>open</td>\n",
       "    </tr>\n",
       "    <tr>\n",
       "      <th>23</th>\n",
       "      <td>36368</td>\n",
       "      <td>CI: exclude directories from ci/code_checks.sh</td>\n",
       "      <td>[{'id': 48070600, 'node_id': 'MDU6TGFiZWw0ODA3...</td>\n",
       "      <td>open</td>\n",
       "    </tr>\n",
       "    <tr>\n",
       "      <th>24</th>\n",
       "      <td>36365</td>\n",
       "      <td>BUG: Python Parser skipping over items if BOM ...</td>\n",
       "      <td>[{'id': 47229171, 'node_id': 'MDU6TGFiZWw0NzIy...</td>\n",
       "      <td>open</td>\n",
       "    </tr>\n",
       "    <tr>\n",
       "      <th>25</th>\n",
       "      <td>36360</td>\n",
       "      <td>BUG: MutliIndex names lost during pivot</td>\n",
       "      <td>[{'id': 76811, 'node_id': 'MDU6TGFiZWw3NjgxMQ=...</td>\n",
       "      <td>open</td>\n",
       "    </tr>\n",
       "    <tr>\n",
       "      <th>26</th>\n",
       "      <td>36359</td>\n",
       "      <td>BUG: get_indexer methods return int64 instead ...</td>\n",
       "      <td>[{'id': 76811, 'node_id': 'MDU6TGFiZWw3NjgxMQ=...</td>\n",
       "      <td>open</td>\n",
       "    </tr>\n",
       "    <tr>\n",
       "      <th>27</th>\n",
       "      <td>36358</td>\n",
       "      <td>Fix documentation for new float_precision on r...</td>\n",
       "      <td>[{'id': 134699, 'node_id': 'MDU6TGFiZWwxMzQ2OT...</td>\n",
       "      <td>open</td>\n",
       "    </tr>\n",
       "    <tr>\n",
       "      <th>28</th>\n",
       "      <td>36357</td>\n",
       "      <td>Dispatch string methods</td>\n",
       "      <td>[{'id': 849023693, 'node_id': 'MDU6TGFiZWw4NDk...</td>\n",
       "      <td>open</td>\n",
       "    </tr>\n",
       "    <tr>\n",
       "      <th>29</th>\n",
       "      <td>36354</td>\n",
       "      <td>DEV: doctests fail on automatic int32/int64 se...</td>\n",
       "      <td>[{'id': 134699, 'node_id': 'MDU6TGFiZWwxMzQ2OT...</td>\n",
       "      <td>open</td>\n",
       "    </tr>\n",
       "  </tbody>\n",
       "</table>\n",
       "</div>"
      ],
      "text/plain": [
       "    number                                              title  \\\n",
       "0    36403               BLD:CI try to fix arm64 build #36397   \n",
       "1    36402                            BLD/CI: support for 3.9   \n",
       "2    36401            TYP: alias IndexLabel without Optional    \n",
       "3    36400           REF: implement putmask for CI/DTI/TDI/PI   \n",
       "4    36398  Backport PR #36378: DOC: move release note for...   \n",
       "5    36397                           BLD/CI: fix arm64 builds   \n",
       "6    36396  Backport PR #36371 on branch 1.1.x (BUG: Fix M...   \n",
       "7    36395  BUG: indexing with DataFrame with nullable boo...   \n",
       "8    36394     CLN: remove unnecessary _convert_index_indexer   \n",
       "9    36391  REF: share __getitem__ for Categorical/PandasA...   \n",
       "10   36388    CLN: Made final changes to /pandas/tests/scalar   \n",
       "11   36386  BLD: Restrict ci/code_checks.sh to tracked rep...   \n",
       "12   36385  BUG: Always cast to Categorical in lexsort_ind...   \n",
       "13   36384  REF: _is_compatible_with_other -> _can_union_w...   \n",
       "14   36383  BUG: df.sort_values w/ key function fails with...   \n",
       "15   36382                      ADMIN: Update stale PR action   \n",
       "16   36380  ENH: Make non-aggregating methods on groupby g...   \n",
       "17   36377  BUG: Weird behavior for comparison operations ...   \n",
       "18   36375  BUG: MultiIndex.from_tuples() fails to infer d...   \n",
       "19   36374  BUG: FooIndex.insert casting datetimelike NAs ...   \n",
       "20   36373  REGR: inplace arithmetic operation on Series n...   \n",
       "21   36372        REF: de-duplicate IntervalIndex compat code   \n",
       "22   36369                           DOC: Enhance asfreq docs   \n",
       "23   36368     CI: exclude directories from ci/code_checks.sh   \n",
       "24   36365  BUG: Python Parser skipping over items if BOM ...   \n",
       "25   36360            BUG: MutliIndex names lost during pivot   \n",
       "26   36359  BUG: get_indexer methods return int64 instead ...   \n",
       "27   36358  Fix documentation for new float_precision on r...   \n",
       "28   36357                            Dispatch string methods   \n",
       "29   36354  DEV: doctests fail on automatic int32/int64 se...   \n",
       "\n",
       "                                               labels state  \n",
       "0                                                  []  open  \n",
       "1   [{'id': 129350, 'node_id': 'MDU6TGFiZWwxMjkzNT...  open  \n",
       "2   [{'id': 1280988427, 'node_id': 'MDU6TGFiZWwxMj...  open  \n",
       "3                                                  []  open  \n",
       "4   [{'id': 134699, 'node_id': 'MDU6TGFiZWwxMzQ2OT...  open  \n",
       "5   [{'id': 129350, 'node_id': 'MDU6TGFiZWwxMjkzNT...  open  \n",
       "6   [{'id': 71268330, 'node_id': 'MDU6TGFiZWw3MTI2...  open  \n",
       "7   [{'id': 76811, 'node_id': 'MDU6TGFiZWw3NjgxMQ=...  open  \n",
       "8   [{'id': 211029535, 'node_id': 'MDU6TGFiZWwyMTE...  open  \n",
       "9   [{'id': 211029535, 'node_id': 'MDU6TGFiZWwyMTE...  open  \n",
       "10  [{'id': 211029535, 'node_id': 'MDU6TGFiZWwyMTE...  open  \n",
       "11  [{'id': 48070600, 'node_id': 'MDU6TGFiZWw0ODA3...  open  \n",
       "12  [{'id': 57296398, 'node_id': 'MDU6TGFiZWw1NzI5...  open  \n",
       "13                                                 []  open  \n",
       "14  [{'id': 57296398, 'node_id': 'MDU6TGFiZWw1NzI5...  open  \n",
       "15  [{'id': 32933285, 'node_id': 'MDU6TGFiZWwzMjkz...  open  \n",
       "16  [{'id': 76812, 'node_id': 'MDU6TGFiZWw3NjgxMg=...  open  \n",
       "17  [{'id': 76811, 'node_id': 'MDU6TGFiZWw3NjgxMQ=...  open  \n",
       "18  [{'id': 76811, 'node_id': 'MDU6TGFiZWw3NjgxMQ=...  open  \n",
       "19                                                 []  open  \n",
       "20  [{'id': 2085877452, 'node_id': 'MDU6TGFiZWwyMD...  open  \n",
       "21                                                 []  open  \n",
       "22  [{'id': 134699, 'node_id': 'MDU6TGFiZWwxMzQ2OT...  open  \n",
       "23  [{'id': 48070600, 'node_id': 'MDU6TGFiZWw0ODA3...  open  \n",
       "24  [{'id': 47229171, 'node_id': 'MDU6TGFiZWw0NzIy...  open  \n",
       "25  [{'id': 76811, 'node_id': 'MDU6TGFiZWw3NjgxMQ=...  open  \n",
       "26  [{'id': 76811, 'node_id': 'MDU6TGFiZWw3NjgxMQ=...  open  \n",
       "27  [{'id': 134699, 'node_id': 'MDU6TGFiZWwxMzQ2OT...  open  \n",
       "28  [{'id': 849023693, 'node_id': 'MDU6TGFiZWw4NDk...  open  \n",
       "29  [{'id': 134699, 'node_id': 'MDU6TGFiZWwxMzQ2OT...  open  "
      ]
     },
     "execution_count": 109,
     "metadata": {},
     "output_type": "execute_result"
    }
   ],
   "source": [
    "issues = pd.DataFrame(data, columns=['number', 'title', 'labels', 'state'])\n",
    "issues"
   ]
  },
  {
   "cell_type": "markdown",
   "metadata": {},
   "source": [
    "# Exercício 10 - Repetir o exercício acima apenas com outro site"
   ]
  },
  {
   "cell_type": "code",
   "execution_count": 110,
   "metadata": {},
   "outputs": [],
   "source": [
    "url2 = 'http://api.sidra.ibge.gov.br/values/t/793/g/2/v/all/p/all?formato=json'\n",
    "reconhecer = requests.get(url2)"
   ]
  },
  {
   "cell_type": "code",
   "execution_count": 131,
   "metadata": {},
   "outputs": [
    {
     "data": {
      "text/plain": [
       "{'NC': 'Nível Territorial (Código)',\n",
       " 'NN': 'Nível Territorial',\n",
       " 'D1C': 'Brasil, Grande Região e UF (Código)',\n",
       " 'D1N': 'Brasil, Grande Região e UF',\n",
       " 'D2C': 'Variável (Código)',\n",
       " 'D2N': 'Variável',\n",
       " 'D3C': 'Ano (Código)',\n",
       " 'D3N': 'Ano',\n",
       " 'MC': 'Unidade de Medida (Código)',\n",
       " 'MN': 'Unidade de Medida',\n",
       " 'V': 'Valor'}"
      ]
     },
     "execution_count": 131,
     "metadata": {},
     "output_type": "execute_result"
    }
   ],
   "source": [
    "dados = reconhecer.json()\n",
    "cabeçalho = dados[0]\n",
    "cabeçalho"
   ]
  },
  {
   "cell_type": "code",
   "execution_count": 133,
   "metadata": {},
   "outputs": [
    {
     "data": {
      "text/html": [
       "<div>\n",
       "<style scoped>\n",
       "    .dataframe tbody tr th:only-of-type {\n",
       "        vertical-align: middle;\n",
       "    }\n",
       "\n",
       "    .dataframe tbody tr th {\n",
       "        vertical-align: top;\n",
       "    }\n",
       "\n",
       "    .dataframe thead th {\n",
       "        text-align: right;\n",
       "    }\n",
       "</style>\n",
       "<table border=\"1\" class=\"dataframe\">\n",
       "  <thead>\n",
       "    <tr style=\"text-align: right;\">\n",
       "      <th></th>\n",
       "      <th>NC</th>\n",
       "      <th>NN</th>\n",
       "      <th>D1C</th>\n",
       "      <th>D1N</th>\n",
       "      <th>D2C</th>\n",
       "      <th>D2N</th>\n",
       "      <th>D3C</th>\n",
       "      <th>D3N</th>\n",
       "      <th>MC</th>\n",
       "      <th>MN</th>\n",
       "      <th>V</th>\n",
       "    </tr>\n",
       "  </thead>\n",
       "  <tbody>\n",
       "    <tr>\n",
       "      <th>0</th>\n",
       "      <td>1</td>\n",
       "      <td>Brasil</td>\n",
       "      <td>1</td>\n",
       "      <td>Brasil</td>\n",
       "      <td>93</td>\n",
       "      <td>População residente</td>\n",
       "      <td>2007</td>\n",
       "      <td>2007</td>\n",
       "      <td>45</td>\n",
       "      <td>Pessoas</td>\n",
       "      <td>183987291</td>\n",
       "    </tr>\n",
       "    <tr>\n",
       "      <th>1</th>\n",
       "      <td>2</td>\n",
       "      <td>Grande Região</td>\n",
       "      <td>1</td>\n",
       "      <td>Norte</td>\n",
       "      <td>93</td>\n",
       "      <td>População residente</td>\n",
       "      <td>2007</td>\n",
       "      <td>2007</td>\n",
       "      <td>45</td>\n",
       "      <td>Pessoas</td>\n",
       "      <td>14623316</td>\n",
       "    </tr>\n",
       "    <tr>\n",
       "      <th>2</th>\n",
       "      <td>3</td>\n",
       "      <td>Unidade da Federação</td>\n",
       "      <td>11</td>\n",
       "      <td>Rondônia</td>\n",
       "      <td>93</td>\n",
       "      <td>População residente</td>\n",
       "      <td>2007</td>\n",
       "      <td>2007</td>\n",
       "      <td>45</td>\n",
       "      <td>Pessoas</td>\n",
       "      <td>1453756</td>\n",
       "    </tr>\n",
       "    <tr>\n",
       "      <th>3</th>\n",
       "      <td>3</td>\n",
       "      <td>Unidade da Federação</td>\n",
       "      <td>12</td>\n",
       "      <td>Acre</td>\n",
       "      <td>93</td>\n",
       "      <td>População residente</td>\n",
       "      <td>2007</td>\n",
       "      <td>2007</td>\n",
       "      <td>45</td>\n",
       "      <td>Pessoas</td>\n",
       "      <td>655385</td>\n",
       "    </tr>\n",
       "    <tr>\n",
       "      <th>4</th>\n",
       "      <td>3</td>\n",
       "      <td>Unidade da Federação</td>\n",
       "      <td>13</td>\n",
       "      <td>Amazonas</td>\n",
       "      <td>93</td>\n",
       "      <td>População residente</td>\n",
       "      <td>2007</td>\n",
       "      <td>2007</td>\n",
       "      <td>45</td>\n",
       "      <td>Pessoas</td>\n",
       "      <td>3221939</td>\n",
       "    </tr>\n",
       "    <tr>\n",
       "      <th>5</th>\n",
       "      <td>3</td>\n",
       "      <td>Unidade da Federação</td>\n",
       "      <td>14</td>\n",
       "      <td>Roraima</td>\n",
       "      <td>93</td>\n",
       "      <td>População residente</td>\n",
       "      <td>2007</td>\n",
       "      <td>2007</td>\n",
       "      <td>45</td>\n",
       "      <td>Pessoas</td>\n",
       "      <td>395725</td>\n",
       "    </tr>\n",
       "    <tr>\n",
       "      <th>6</th>\n",
       "      <td>3</td>\n",
       "      <td>Unidade da Federação</td>\n",
       "      <td>15</td>\n",
       "      <td>Pará</td>\n",
       "      <td>93</td>\n",
       "      <td>População residente</td>\n",
       "      <td>2007</td>\n",
       "      <td>2007</td>\n",
       "      <td>45</td>\n",
       "      <td>Pessoas</td>\n",
       "      <td>7065573</td>\n",
       "    </tr>\n",
       "    <tr>\n",
       "      <th>7</th>\n",
       "      <td>3</td>\n",
       "      <td>Unidade da Federação</td>\n",
       "      <td>16</td>\n",
       "      <td>Amapá</td>\n",
       "      <td>93</td>\n",
       "      <td>População residente</td>\n",
       "      <td>2007</td>\n",
       "      <td>2007</td>\n",
       "      <td>45</td>\n",
       "      <td>Pessoas</td>\n",
       "      <td>587311</td>\n",
       "    </tr>\n",
       "    <tr>\n",
       "      <th>8</th>\n",
       "      <td>3</td>\n",
       "      <td>Unidade da Federação</td>\n",
       "      <td>17</td>\n",
       "      <td>Tocantins</td>\n",
       "      <td>93</td>\n",
       "      <td>População residente</td>\n",
       "      <td>2007</td>\n",
       "      <td>2007</td>\n",
       "      <td>45</td>\n",
       "      <td>Pessoas</td>\n",
       "      <td>1243627</td>\n",
       "    </tr>\n",
       "    <tr>\n",
       "      <th>9</th>\n",
       "      <td>2</td>\n",
       "      <td>Grande Região</td>\n",
       "      <td>2</td>\n",
       "      <td>Nordeste</td>\n",
       "      <td>93</td>\n",
       "      <td>População residente</td>\n",
       "      <td>2007</td>\n",
       "      <td>2007</td>\n",
       "      <td>45</td>\n",
       "      <td>Pessoas</td>\n",
       "      <td>51534406</td>\n",
       "    </tr>\n",
       "    <tr>\n",
       "      <th>10</th>\n",
       "      <td>3</td>\n",
       "      <td>Unidade da Federação</td>\n",
       "      <td>21</td>\n",
       "      <td>Maranhão</td>\n",
       "      <td>93</td>\n",
       "      <td>População residente</td>\n",
       "      <td>2007</td>\n",
       "      <td>2007</td>\n",
       "      <td>45</td>\n",
       "      <td>Pessoas</td>\n",
       "      <td>6118995</td>\n",
       "    </tr>\n",
       "    <tr>\n",
       "      <th>11</th>\n",
       "      <td>3</td>\n",
       "      <td>Unidade da Federação</td>\n",
       "      <td>22</td>\n",
       "      <td>Piauí</td>\n",
       "      <td>93</td>\n",
       "      <td>População residente</td>\n",
       "      <td>2007</td>\n",
       "      <td>2007</td>\n",
       "      <td>45</td>\n",
       "      <td>Pessoas</td>\n",
       "      <td>3032421</td>\n",
       "    </tr>\n",
       "    <tr>\n",
       "      <th>12</th>\n",
       "      <td>3</td>\n",
       "      <td>Unidade da Federação</td>\n",
       "      <td>23</td>\n",
       "      <td>Ceará</td>\n",
       "      <td>93</td>\n",
       "      <td>População residente</td>\n",
       "      <td>2007</td>\n",
       "      <td>2007</td>\n",
       "      <td>45</td>\n",
       "      <td>Pessoas</td>\n",
       "      <td>8185286</td>\n",
       "    </tr>\n",
       "    <tr>\n",
       "      <th>13</th>\n",
       "      <td>3</td>\n",
       "      <td>Unidade da Federação</td>\n",
       "      <td>24</td>\n",
       "      <td>Rio Grande do Norte</td>\n",
       "      <td>93</td>\n",
       "      <td>População residente</td>\n",
       "      <td>2007</td>\n",
       "      <td>2007</td>\n",
       "      <td>45</td>\n",
       "      <td>Pessoas</td>\n",
       "      <td>3013740</td>\n",
       "    </tr>\n",
       "    <tr>\n",
       "      <th>14</th>\n",
       "      <td>3</td>\n",
       "      <td>Unidade da Federação</td>\n",
       "      <td>25</td>\n",
       "      <td>Paraíba</td>\n",
       "      <td>93</td>\n",
       "      <td>População residente</td>\n",
       "      <td>2007</td>\n",
       "      <td>2007</td>\n",
       "      <td>45</td>\n",
       "      <td>Pessoas</td>\n",
       "      <td>3641395</td>\n",
       "    </tr>\n",
       "    <tr>\n",
       "      <th>15</th>\n",
       "      <td>3</td>\n",
       "      <td>Unidade da Federação</td>\n",
       "      <td>26</td>\n",
       "      <td>Pernambuco</td>\n",
       "      <td>93</td>\n",
       "      <td>População residente</td>\n",
       "      <td>2007</td>\n",
       "      <td>2007</td>\n",
       "      <td>45</td>\n",
       "      <td>Pessoas</td>\n",
       "      <td>8485386</td>\n",
       "    </tr>\n",
       "    <tr>\n",
       "      <th>16</th>\n",
       "      <td>3</td>\n",
       "      <td>Unidade da Federação</td>\n",
       "      <td>27</td>\n",
       "      <td>Alagoas</td>\n",
       "      <td>93</td>\n",
       "      <td>População residente</td>\n",
       "      <td>2007</td>\n",
       "      <td>2007</td>\n",
       "      <td>45</td>\n",
       "      <td>Pessoas</td>\n",
       "      <td>3037103</td>\n",
       "    </tr>\n",
       "    <tr>\n",
       "      <th>17</th>\n",
       "      <td>3</td>\n",
       "      <td>Unidade da Federação</td>\n",
       "      <td>28</td>\n",
       "      <td>Sergipe</td>\n",
       "      <td>93</td>\n",
       "      <td>População residente</td>\n",
       "      <td>2007</td>\n",
       "      <td>2007</td>\n",
       "      <td>45</td>\n",
       "      <td>Pessoas</td>\n",
       "      <td>1939426</td>\n",
       "    </tr>\n",
       "    <tr>\n",
       "      <th>18</th>\n",
       "      <td>3</td>\n",
       "      <td>Unidade da Federação</td>\n",
       "      <td>29</td>\n",
       "      <td>Bahia</td>\n",
       "      <td>93</td>\n",
       "      <td>População residente</td>\n",
       "      <td>2007</td>\n",
       "      <td>2007</td>\n",
       "      <td>45</td>\n",
       "      <td>Pessoas</td>\n",
       "      <td>14080654</td>\n",
       "    </tr>\n",
       "    <tr>\n",
       "      <th>19</th>\n",
       "      <td>2</td>\n",
       "      <td>Grande Região</td>\n",
       "      <td>3</td>\n",
       "      <td>Sudeste</td>\n",
       "      <td>93</td>\n",
       "      <td>População residente</td>\n",
       "      <td>2007</td>\n",
       "      <td>2007</td>\n",
       "      <td>45</td>\n",
       "      <td>Pessoas</td>\n",
       "      <td>77873120</td>\n",
       "    </tr>\n",
       "    <tr>\n",
       "      <th>20</th>\n",
       "      <td>3</td>\n",
       "      <td>Unidade da Federação</td>\n",
       "      <td>31</td>\n",
       "      <td>Minas Gerais</td>\n",
       "      <td>93</td>\n",
       "      <td>População residente</td>\n",
       "      <td>2007</td>\n",
       "      <td>2007</td>\n",
       "      <td>45</td>\n",
       "      <td>Pessoas</td>\n",
       "      <td>19273506</td>\n",
       "    </tr>\n",
       "    <tr>\n",
       "      <th>21</th>\n",
       "      <td>3</td>\n",
       "      <td>Unidade da Federação</td>\n",
       "      <td>32</td>\n",
       "      <td>Espírito Santo</td>\n",
       "      <td>93</td>\n",
       "      <td>População residente</td>\n",
       "      <td>2007</td>\n",
       "      <td>2007</td>\n",
       "      <td>45</td>\n",
       "      <td>Pessoas</td>\n",
       "      <td>3351669</td>\n",
       "    </tr>\n",
       "    <tr>\n",
       "      <th>22</th>\n",
       "      <td>3</td>\n",
       "      <td>Unidade da Federação</td>\n",
       "      <td>33</td>\n",
       "      <td>Rio de Janeiro</td>\n",
       "      <td>93</td>\n",
       "      <td>População residente</td>\n",
       "      <td>2007</td>\n",
       "      <td>2007</td>\n",
       "      <td>45</td>\n",
       "      <td>Pessoas</td>\n",
       "      <td>15420375</td>\n",
       "    </tr>\n",
       "    <tr>\n",
       "      <th>23</th>\n",
       "      <td>3</td>\n",
       "      <td>Unidade da Federação</td>\n",
       "      <td>35</td>\n",
       "      <td>São Paulo</td>\n",
       "      <td>93</td>\n",
       "      <td>População residente</td>\n",
       "      <td>2007</td>\n",
       "      <td>2007</td>\n",
       "      <td>45</td>\n",
       "      <td>Pessoas</td>\n",
       "      <td>39827570</td>\n",
       "    </tr>\n",
       "    <tr>\n",
       "      <th>24</th>\n",
       "      <td>2</td>\n",
       "      <td>Grande Região</td>\n",
       "      <td>4</td>\n",
       "      <td>Sul</td>\n",
       "      <td>93</td>\n",
       "      <td>População residente</td>\n",
       "      <td>2007</td>\n",
       "      <td>2007</td>\n",
       "      <td>45</td>\n",
       "      <td>Pessoas</td>\n",
       "      <td>26733595</td>\n",
       "    </tr>\n",
       "    <tr>\n",
       "      <th>25</th>\n",
       "      <td>3</td>\n",
       "      <td>Unidade da Federação</td>\n",
       "      <td>41</td>\n",
       "      <td>Paraná</td>\n",
       "      <td>93</td>\n",
       "      <td>População residente</td>\n",
       "      <td>2007</td>\n",
       "      <td>2007</td>\n",
       "      <td>45</td>\n",
       "      <td>Pessoas</td>\n",
       "      <td>10284503</td>\n",
       "    </tr>\n",
       "    <tr>\n",
       "      <th>26</th>\n",
       "      <td>3</td>\n",
       "      <td>Unidade da Federação</td>\n",
       "      <td>42</td>\n",
       "      <td>Santa Catarina</td>\n",
       "      <td>93</td>\n",
       "      <td>População residente</td>\n",
       "      <td>2007</td>\n",
       "      <td>2007</td>\n",
       "      <td>45</td>\n",
       "      <td>Pessoas</td>\n",
       "      <td>5866252</td>\n",
       "    </tr>\n",
       "    <tr>\n",
       "      <th>27</th>\n",
       "      <td>3</td>\n",
       "      <td>Unidade da Federação</td>\n",
       "      <td>43</td>\n",
       "      <td>Rio Grande do Sul</td>\n",
       "      <td>93</td>\n",
       "      <td>População residente</td>\n",
       "      <td>2007</td>\n",
       "      <td>2007</td>\n",
       "      <td>45</td>\n",
       "      <td>Pessoas</td>\n",
       "      <td>10582840</td>\n",
       "    </tr>\n",
       "    <tr>\n",
       "      <th>28</th>\n",
       "      <td>2</td>\n",
       "      <td>Grande Região</td>\n",
       "      <td>5</td>\n",
       "      <td>Centro-Oeste</td>\n",
       "      <td>93</td>\n",
       "      <td>População residente</td>\n",
       "      <td>2007</td>\n",
       "      <td>2007</td>\n",
       "      <td>45</td>\n",
       "      <td>Pessoas</td>\n",
       "      <td>13222854</td>\n",
       "    </tr>\n",
       "    <tr>\n",
       "      <th>29</th>\n",
       "      <td>3</td>\n",
       "      <td>Unidade da Federação</td>\n",
       "      <td>50</td>\n",
       "      <td>Mato Grosso do Sul</td>\n",
       "      <td>93</td>\n",
       "      <td>População residente</td>\n",
       "      <td>2007</td>\n",
       "      <td>2007</td>\n",
       "      <td>45</td>\n",
       "      <td>Pessoas</td>\n",
       "      <td>2265274</td>\n",
       "    </tr>\n",
       "    <tr>\n",
       "      <th>30</th>\n",
       "      <td>3</td>\n",
       "      <td>Unidade da Federação</td>\n",
       "      <td>51</td>\n",
       "      <td>Mato Grosso</td>\n",
       "      <td>93</td>\n",
       "      <td>População residente</td>\n",
       "      <td>2007</td>\n",
       "      <td>2007</td>\n",
       "      <td>45</td>\n",
       "      <td>Pessoas</td>\n",
       "      <td>2854642</td>\n",
       "    </tr>\n",
       "    <tr>\n",
       "      <th>31</th>\n",
       "      <td>3</td>\n",
       "      <td>Unidade da Federação</td>\n",
       "      <td>52</td>\n",
       "      <td>Goiás</td>\n",
       "      <td>93</td>\n",
       "      <td>População residente</td>\n",
       "      <td>2007</td>\n",
       "      <td>2007</td>\n",
       "      <td>45</td>\n",
       "      <td>Pessoas</td>\n",
       "      <td>5647035</td>\n",
       "    </tr>\n",
       "    <tr>\n",
       "      <th>32</th>\n",
       "      <td>3</td>\n",
       "      <td>Unidade da Federação</td>\n",
       "      <td>53</td>\n",
       "      <td>Distrito Federal</td>\n",
       "      <td>93</td>\n",
       "      <td>População residente</td>\n",
       "      <td>2007</td>\n",
       "      <td>2007</td>\n",
       "      <td>45</td>\n",
       "      <td>Pessoas</td>\n",
       "      <td>2455903</td>\n",
       "    </tr>\n",
       "  </tbody>\n",
       "</table>\n",
       "</div>"
      ],
      "text/plain": [
       "   NC                    NN D1C                  D1N D2C                  D2N  \\\n",
       "0   1                Brasil   1               Brasil  93  População residente   \n",
       "1   2         Grande Região   1                Norte  93  População residente   \n",
       "2   3  Unidade da Federação  11             Rondônia  93  População residente   \n",
       "3   3  Unidade da Federação  12                 Acre  93  População residente   \n",
       "4   3  Unidade da Federação  13             Amazonas  93  População residente   \n",
       "5   3  Unidade da Federação  14              Roraima  93  População residente   \n",
       "6   3  Unidade da Federação  15                 Pará  93  População residente   \n",
       "7   3  Unidade da Federação  16                Amapá  93  População residente   \n",
       "8   3  Unidade da Federação  17            Tocantins  93  População residente   \n",
       "9   2         Grande Região   2             Nordeste  93  População residente   \n",
       "10  3  Unidade da Federação  21             Maranhão  93  População residente   \n",
       "11  3  Unidade da Federação  22                Piauí  93  População residente   \n",
       "12  3  Unidade da Federação  23                Ceará  93  População residente   \n",
       "13  3  Unidade da Federação  24  Rio Grande do Norte  93  População residente   \n",
       "14  3  Unidade da Federação  25              Paraíba  93  População residente   \n",
       "15  3  Unidade da Federação  26           Pernambuco  93  População residente   \n",
       "16  3  Unidade da Federação  27              Alagoas  93  População residente   \n",
       "17  3  Unidade da Federação  28              Sergipe  93  População residente   \n",
       "18  3  Unidade da Federação  29                Bahia  93  População residente   \n",
       "19  2         Grande Região   3              Sudeste  93  População residente   \n",
       "20  3  Unidade da Federação  31         Minas Gerais  93  População residente   \n",
       "21  3  Unidade da Federação  32       Espírito Santo  93  População residente   \n",
       "22  3  Unidade da Federação  33       Rio de Janeiro  93  População residente   \n",
       "23  3  Unidade da Federação  35            São Paulo  93  População residente   \n",
       "24  2         Grande Região   4                  Sul  93  População residente   \n",
       "25  3  Unidade da Federação  41               Paraná  93  População residente   \n",
       "26  3  Unidade da Federação  42       Santa Catarina  93  População residente   \n",
       "27  3  Unidade da Federação  43    Rio Grande do Sul  93  População residente   \n",
       "28  2         Grande Região   5         Centro-Oeste  93  População residente   \n",
       "29  3  Unidade da Federação  50   Mato Grosso do Sul  93  População residente   \n",
       "30  3  Unidade da Federação  51          Mato Grosso  93  População residente   \n",
       "31  3  Unidade da Federação  52                Goiás  93  População residente   \n",
       "32  3  Unidade da Federação  53     Distrito Federal  93  População residente   \n",
       "\n",
       "     D3C   D3N  MC       MN          V  \n",
       "0   2007  2007  45  Pessoas  183987291  \n",
       "1   2007  2007  45  Pessoas   14623316  \n",
       "2   2007  2007  45  Pessoas    1453756  \n",
       "3   2007  2007  45  Pessoas     655385  \n",
       "4   2007  2007  45  Pessoas    3221939  \n",
       "5   2007  2007  45  Pessoas     395725  \n",
       "6   2007  2007  45  Pessoas    7065573  \n",
       "7   2007  2007  45  Pessoas     587311  \n",
       "8   2007  2007  45  Pessoas    1243627  \n",
       "9   2007  2007  45  Pessoas   51534406  \n",
       "10  2007  2007  45  Pessoas    6118995  \n",
       "11  2007  2007  45  Pessoas    3032421  \n",
       "12  2007  2007  45  Pessoas    8185286  \n",
       "13  2007  2007  45  Pessoas    3013740  \n",
       "14  2007  2007  45  Pessoas    3641395  \n",
       "15  2007  2007  45  Pessoas    8485386  \n",
       "16  2007  2007  45  Pessoas    3037103  \n",
       "17  2007  2007  45  Pessoas    1939426  \n",
       "18  2007  2007  45  Pessoas   14080654  \n",
       "19  2007  2007  45  Pessoas   77873120  \n",
       "20  2007  2007  45  Pessoas   19273506  \n",
       "21  2007  2007  45  Pessoas    3351669  \n",
       "22  2007  2007  45  Pessoas   15420375  \n",
       "23  2007  2007  45  Pessoas   39827570  \n",
       "24  2007  2007  45  Pessoas   26733595  \n",
       "25  2007  2007  45  Pessoas   10284503  \n",
       "26  2007  2007  45  Pessoas    5866252  \n",
       "27  2007  2007  45  Pessoas   10582840  \n",
       "28  2007  2007  45  Pessoas   13222854  \n",
       "29  2007  2007  45  Pessoas    2265274  \n",
       "30  2007  2007  45  Pessoas    2854642  \n",
       "31  2007  2007  45  Pessoas    5647035  \n",
       "32  2007  2007  45  Pessoas    2455903  "
      ]
     },
     "execution_count": 133,
     "metadata": {},
     "output_type": "execute_result"
    }
   ],
   "source": [
    "tabela = pd.DataFrame(dados[1:])\n",
    "tabela"
   ]
  }
 ],
 "metadata": {
  "kernelspec": {
   "display_name": "Python 3",
   "language": "python",
   "name": "python3"
  },
  "language_info": {
   "codemirror_mode": {
    "name": "ipython",
    "version": 3
   },
   "file_extension": ".py",
   "mimetype": "text/x-python",
   "name": "python",
   "nbconvert_exporter": "python",
   "pygments_lexer": "ipython3",
   "version": "3.7.6"
  }
 },
 "nbformat": 4,
 "nbformat_minor": 4
}
