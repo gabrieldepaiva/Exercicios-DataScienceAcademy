{
  "nbformat": 4,
  "nbformat_minor": 0,
  "metadata": {
    "colab": {
      "name": "Instruções - Numpy.ipynb",
      "provenance": [],
      "authorship_tag": "ABX9TyP04Rt8q4im4tVxyPmh6XMJ",
      "include_colab_link": true
    },
    "kernelspec": {
      "name": "python3",
      "display_name": "Python 3"
    }
  },
  "cells": [
    {
      "cell_type": "markdown",
      "metadata": {
        "id": "view-in-github",
        "colab_type": "text"
      },
      "source": [
        "<a href=\"https://colab.research.google.com/github/gabrieldepaiva/Meus_Projetos/blob/master/Instru%C3%A7%C3%B5es_Numpy.ipynb\" target=\"_parent\"><img src=\"https://colab.research.google.com/assets/colab-badge.svg\" alt=\"Open In Colab\"/></a>"
      ]
    },
    {
      "cell_type": "markdown",
      "metadata": {
        "id": "wLcvxmvjUgYA",
        "colab_type": "text"
      },
      "source": [
        "## Como usar as estatísticas do módulo Numpy e para que elas servem:"
      ]
    },
    {
      "cell_type": "code",
      "metadata": {
        "id": "R6gSpg0bU0uT",
        "colab_type": "code",
        "colab": {}
      },
      "source": [
        "import numpy as np"
      ],
      "execution_count": null,
      "outputs": []
    },
    {
      "cell_type": "code",
      "metadata": {
        "id": "kcwjHgl3VCbs",
        "colab_type": "code",
        "colab": {
          "base_uri": "https://localhost:8080/",
          "height": 34
        },
        "outputId": "8b085fe5-b48c-4028-cc28-df621622b846"
      },
      "source": [
        "# Números usados nas análises desse módulo:\n",
        "\n",
        "array_exemplo = np.random.randint(0,100,10)\n",
        "array_exemplo"
      ],
      "execution_count": null,
      "outputs": [
        {
          "output_type": "execute_result",
          "data": {
            "text/plain": [
              "array([99, 22, 69, 66, 43, 55, 54, 50, 73, 49])"
            ]
          },
          "metadata": {
            "tags": []
          },
          "execution_count": 3
        }
      ]
    },
    {
      "cell_type": "markdown",
      "metadata": {
        "id": "8X0tzo92VoSQ",
        "colab_type": "text"
      },
      "source": [
        "Estatísticas usadas neste módulo:"
      ]
    },
    {
      "cell_type": "code",
      "metadata": {
        "id": "QxucrrNUV_cU",
        "colab_type": "code",
        "colab": {}
      },
      "source": [
        "# Média: np.mean(array_exemplo)\n",
        "print(f'Média: {np.mean(array_exemplo):.2f}')\n",
        "\n",
        "# Desvio Padrão: np.std(array_exemplo)\n",
        "print(f'Desvio Padrão: {np.std(array_exemplo):.2f}')\n",
        "\n",
        "# Mediana: np.median(array_exemplo)\n",
        "print(f'Mediana: {np.median(array_exemplo):.2f}')\n",
        "\n",
        "# Maximo: np.max(array_exemplo)\n",
        "print(f'Máximo: {np.max(array_exemplo):.2f}')\n",
        "\n",
        "# Mínimo: np.min(array_exemplo)\n",
        "print(f'Mínimo: {np.min(array_exemplo):.2f}')\n",
        "\n",
        "# Covariância: np.cov(array_exemplo)\n",
        "print(f'Covariância: {np.cov(array_exemplo):.2f}')\n",
        "\n",
        "# Variância: np.var(array_exemplo)\n",
        "print(f'Variância: {np.var(array_exemplo):.2f}')"
      ],
      "execution_count": null,
      "outputs": []
    },
    {
      "cell_type": "markdown",
      "metadata": {
        "id": "0UWOhY_KWagh",
        "colab_type": "text"
      },
      "source": [
        "Outras utilidades úteis:"
      ]
    },
    {
      "cell_type": "code",
      "metadata": {
        "id": "m7IMLGImWezF",
        "colab_type": "code",
        "colab": {}
      },
      "source": [
        "# Soma acumulada:\n",
        "array_exemplo.cumsum()"
      ],
      "execution_count": null,
      "outputs": []
    }
  ]
}